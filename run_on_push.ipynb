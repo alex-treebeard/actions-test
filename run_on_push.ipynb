{
 "cells": [
  {
   "cell_type": "code",
   "execution_count": 1,
   "metadata": {
    "execution": {
     "iopub.execute_input": "2020-06-21T12:06:20.164233Z",
     "iopub.status.busy": "2020-06-21T12:06:20.163449Z",
     "iopub.status.idle": "2020-06-21T12:06:20.487292Z",
     "shell.execute_reply": "2020-06-21T12:06:20.487730Z"
    },
    "papermill": {
     "duration": 0.334812,
     "end_time": "2020-06-21T12:06:20.487917",
     "exception": false,
     "start_time": "2020-06-21T12:06:20.153105",
     "status": "completed"
    },
    "tags": []
   },
   "outputs": [
    {
     "name": "stdout",
     "output_type": "stream",
     "text": [
      "a log msg"
     ]
    },
    {
     "name": "stdout",
     "output_type": "stream",
     "text": [
      "\n"
     ]
    },
    {
     "name": "stdout",
     "output_type": "stream",
     "text": [
      "run on push"
     ]
    },
    {
     "name": "stdout",
     "output_type": "stream",
     "text": [
      "\n"
     ]
    }
   ],
   "source": [
    "from treebeard.logs import log\n",
    "log(\"a log msg\")\n",
    "\n",
    "print('run on push')\n",
    "raise Exception(\"test failure\")"
   ]
  },
  {
   "cell_type": "code",
   "execution_count": 2,
   "metadata": {
    "execution": {
     "iopub.execute_input": "2020-06-21T12:06:20.499917Z",
     "iopub.status.busy": "2020-06-21T12:06:20.499255Z",
     "iopub.status.idle": "2020-06-21T12:06:20.502328Z",
     "shell.execute_reply": "2020-06-21T12:06:20.502812Z"
    },
    "papermill": {
     "duration": 0.011903,
     "end_time": "2020-06-21T12:06:20.503165",
     "exception": false,
     "start_time": "2020-06-21T12:06:20.491262",
     "status": "completed"
    },
    "tags": []
   },
   "outputs": [
    {
     "name": "stdout",
     "output_type": "stream",
     "text": [
      "another log msg"
     ]
    },
    {
     "name": "stdout",
     "output_type": "stream",
     "text": [
      "\n"
     ]
    }
   ],
   "source": [
    "log(\"another log msg\")\n"
   ]
  }
 ],
 "metadata": {
  "kernelspec": {
   "display_name": "Python 3",
   "language": "python",
   "name": "python3"
  },
  "language_info": {
   "codemirror_mode": {
    "name": "ipython",
    "version": 3
   },
   "file_extension": ".py",
   "mimetype": "text/x-python",
   "name": "python",
   "nbconvert_exporter": "python",
   "pygments_lexer": "ipython3",
   "version": "3.7.6"
  },
  "papermill": {
   "duration": 2.550117,
   "end_time": "2020-06-21T12:06:20.821961",
   "environment_variables": {},
   "exception": null,
   "input_path": "run_on_push.ipynb",
   "output_path": "run_on_push.ipynb",
   "parameters": {},
   "start_time": "2020-06-21T12:06:18.271844",
   "version": "2.1.1"
  },
  "toc": {
   "base_numbering": 1,
   "nav_menu": {},
   "number_sections": true,
   "sideBar": true,
   "skip_h1_title": false,
   "title_cell": "Table of Contents",
   "title_sidebar": "Contents",
   "toc_cell": false,
   "toc_position": {},
   "toc_section_display": true,
   "toc_window_display": false
  }
 },
 "nbformat": 4,
 "nbformat_minor": 4
}