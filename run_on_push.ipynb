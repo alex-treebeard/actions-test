{
 "cells": [
  {
   "cell_type": "code",
   "execution_count": 1,
   "metadata": {
    "execution": {
     "iopub.execute_input": "2020-06-22T14:22:04.766571Z",
     "iopub.status.busy": "2020-06-22T14:22:04.765755Z",
     "iopub.status.idle": "2020-06-22T14:22:05.087564Z",
     "shell.execute_reply": "2020-06-22T14:22:05.088064Z"
    },
    "papermill": {
     "duration": 0.33479,
     "end_time": "2020-06-22T14:22:05.088256",
     "exception": false,
     "start_time": "2020-06-22T14:22:04.753466",
     "status": "completed"
    },
    "tags": []
   },
   "outputs": [
    {
     "name": "stdout",
     "output_type": "stream",
     "text": [
      "a log msg"
     ]
    },
    {
     "name": "stdout",
     "output_type": "stream",
     "text": [
      "\n"
     ]
    },
    {
     "name": "stdout",
     "output_type": "stream",
     "text": [
      "run on push"
     ]
    },
    {
     "name": "stdout",
     "output_type": "stream",
     "text": [
      "\n"
     ]
    }
   ],
   "source": [
    "from treebeard.logs import log\n",
    "\n",
    "print('run on push')"
   ]
  },
  {
   "cell_type": "code",
   "execution_count": 2,
   "metadata": {
    "execution": {
     "iopub.execute_input": "2020-06-22T14:22:05.100594Z",
     "iopub.status.busy": "2020-06-22T14:22:05.099785Z",
     "iopub.status.idle": "2020-06-22T14:22:05.103214Z",
     "shell.execute_reply": "2020-06-22T14:22:05.103653Z"
    },
    "papermill": {
     "duration": 0.011947,
     "end_time": "2020-06-22T14:22:05.103817",
     "exception": false,
     "start_time": "2020-06-22T14:22:05.091870",
     "status": "completed"
    },
    "tags": []
   },
   "outputs": [
    {
     "name": "stdout",
     "output_type": "stream",
     "text": [
      "another log msg"
     ]
    },
    {
     "name": "stdout",
     "output_type": "stream",
     "text": [
      "\n"
     ]
    }
   ],
   "source": []
  }
 ],
 "metadata": {
  "kernelspec": {
   "display_name": "Python 3",
   "language": "python",
   "name": "python3"
  },
  "language_info": {
   "codemirror_mode": {
    "name": "ipython",
    "version": 3
   },
   "file_extension": ".py",
   "mimetype": "text/x-python",
   "name": "python",
   "nbconvert_exporter": "python",
   "pygments_lexer": "ipython3",
   "version": "3.7.6"
  },
  "papermill": {
   "duration": 1.69445,
   "end_time": "2020-06-22T14:22:05.425070",
   "environment_variables": {},
   "exception": null,
   "input_path": "run_on_push.ipynb",
   "output_path": "run_on_push.ipynb",
   "parameters": {},
   "start_time": "2020-06-22T14:22:03.730620",
   "version": "2.1.1"
  },
  "toc": {
   "base_numbering": 1,
   "nav_menu": {},
   "number_sections": true,
   "sideBar": true,
   "skip_h1_title": false,
   "title_cell": "Table of Contents",
   "title_sidebar": "Contents",
   "toc_cell": false,
   "toc_position": {},
   "toc_section_display": true,
   "toc_window_display": false
  }
 },
 "nbformat": 4,
 "nbformat_minor": 4
}