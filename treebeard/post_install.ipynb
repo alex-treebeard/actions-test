{
 "cells": [
  {
   "cell_type": "code",
   "execution_count": 5,
   "metadata": {},
   "outputs": [
    {
     "name": "stdout",
     "output_type": "stream",
     "text": [
      "/Users/alexremedios/.jupyter/jupyter_notebook_config.json\n"
     ]
    }
   ],
   "source": [
    "import os\n",
    "with open(f\"{os.environ['HOME']}/.jupyter/jupyter_notebook_config.json\", \"w\") as config:\n",
    "    config.write(\"\"\"\n",
    "        {\n",
    "          \"NotebookApp\": {\n",
    "            \"nbserver_extensions\": {\n",
    "              \"jupyter_nbextensions_configurator\": true\n",
    "            },\n",
    "            \"password\": \"sha1:774e3f6ae2bc:d1f633ee24c2d100966840080c71a1ba87b775fa\"\n",
    "          }\n",
    "        }\n",
    "    \"\"\")"
   ]
  }
 ],
 "metadata": {
  "kernelspec": {
   "display_name": "Python 3",
   "language": "python",
   "name": "python3"
  },
  "language_info": {
   "codemirror_mode": {
    "name": "ipython",
    "version": 3
   },
   "file_extension": ".py",
   "mimetype": "text/x-python",
   "name": "python",
   "nbconvert_exporter": "python",
   "pygments_lexer": "ipython3",
   "version": "3.7.6"
  }
 },
 "nbformat": 4,
 "nbformat_minor": 4
}
